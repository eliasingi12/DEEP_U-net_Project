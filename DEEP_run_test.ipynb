{
  "nbformat": 4,
  "nbformat_minor": 0,
  "metadata": {
    "colab": {
      "name": "DEEP_run_test.ipynb",
      "version": "0.3.2",
      "provenance": [],
      "collapsed_sections": [],
      "include_colab_link": true
    },
    "kernelspec": {
      "name": "python3",
      "display_name": "Python 3"
    },
    "accelerator": "GPU"
  },
  "cells": [
    {
      "cell_type": "markdown",
      "metadata": {
        "id": "view-in-github",
        "colab_type": "text"
      },
      "source": [
        "<a href=\"https://colab.research.google.com/github/eliasingi12/DEEP_U-net_Project/blob/master/DEEP_run_test.ipynb\" target=\"_parent\"><img src=\"https://colab.research.google.com/assets/colab-badge.svg\" alt=\"Open In Colab\"/></a>"
      ]
    },
    {
      "metadata": {
        "id": "c9xzCSEnU4nt",
        "colab_type": "code",
        "colab": {
          "base_uri": "https://localhost:8080/",
          "height": 122
        },
        "outputId": "7b4ad651-90ed-463f-b6fe-eff13585583c"
      },
      "cell_type": "code",
      "source": [
        "# get drive database\n",
        "from google.colab import drive\n",
        "drive.mount('/content/drive/', force_remount=True)"
      ],
      "execution_count": 1,
      "outputs": [
        {
          "output_type": "stream",
          "text": [
            "Go to this URL in a browser: https://accounts.google.com/o/oauth2/auth?client_id=947318989803-6bn6qk8qdgf4n4g3pfee6491hc0brc4i.apps.googleusercontent.com&redirect_uri=urn%3Aietf%3Awg%3Aoauth%3A2.0%3Aoob&scope=email%20https%3A%2F%2Fwww.googleapis.com%2Fauth%2Fdocs.test%20https%3A%2F%2Fwww.googleapis.com%2Fauth%2Fdrive%20https%3A%2F%2Fwww.googleapis.com%2Fauth%2Fdrive.photos.readonly%20https%3A%2F%2Fwww.googleapis.com%2Fauth%2Fpeopleapi.readonly&response_type=code\n",
            "\n",
            "Enter your authorization code:\n",
            "··········\n",
            "Mounted at /content/drive/\n"
          ],
          "name": "stdout"
        }
      ]
    },
    {
      "metadata": {
        "id": "btQsCA1UTofS",
        "colab_type": "code",
        "colab": {
          "base_uri": "https://localhost:8080/",
          "height": 751
        },
        "outputId": "16f05f25-0991-43d5-dd3c-d3d582ec34c8"
      },
      "cell_type": "code",
      "source": [
        "import os  # misc operating system specific operations, e.g., reading directries.\n",
        "import sys\n",
        "import random\n",
        "\n",
        "import cv2\n",
        "import numpy as np\n",
        "\n",
        "import matplotlib.pyplot as plt\n",
        "\n",
        "#from unet import unet\n",
        "\n",
        "#resize inputs & targets\n",
        "import skimage\n",
        "from skimage.transform import resize\n",
        "\n",
        "from keras.layers import Input, Conv2D, MaxPooling2D, UpSampling2D, concatenate, Cropping2D\n",
        "from keras.models import Sequential, Model\n",
        "from keras.layers.core import Dense\n",
        "from keras.optimizers import SGD\n",
        "from sklearn.metrics import classification_report\n",
        "\n",
        "!pip install fcn==6.4.4"
      ],
      "execution_count": 2,
      "outputs": [
        {
          "output_type": "stream",
          "text": [
            "Using TensorFlow backend.\n"
          ],
          "name": "stderr"
        },
        {
          "output_type": "stream",
          "text": [
            "Collecting fcn==6.4.4\n",
            "  Downloading https://files.pythonhosted.org/packages/ea/14/0e2dfb7ac379e02a2659078f55a74ffc157eca15f291bba77853de74d15a/fcn-6.4.4.tar.gz\n",
            "Requirement already satisfied: chainer>=2.0.0 in /usr/local/lib/python3.6/dist-packages (from fcn==6.4.4) (5.0.0)\n",
            "Collecting chainercv (from fcn==6.4.4)\n",
            "\u001b[?25l  Downloading https://files.pythonhosted.org/packages/bb/1c/cee12630628d0acd4d6c5d7a3ba196a3aa079a863baa3dc74eb70d8494c5/chainercv-0.11.0.tar.gz (223kB)\n",
            "\u001b[K    100% |████████████████████████████████| 225kB 21.9MB/s \n",
            "\u001b[?25hRequirement already satisfied: gdown in /usr/local/lib/python3.6/dist-packages (from fcn==6.4.4) (3.6.0)\n",
            "Requirement already satisfied: tqdm in /usr/local/lib/python3.6/dist-packages (from fcn==6.4.4) (4.28.1)\n",
            "Requirement already satisfied: numpy in /usr/local/lib/python3.6/dist-packages (from fcn==6.4.4) (1.14.6)\n",
            "Requirement already satisfied: scipy in /usr/local/lib/python3.6/dist-packages (from fcn==6.4.4) (1.1.0)\n",
            "Requirement already satisfied: matplotlib in /usr/local/lib/python3.6/dist-packages (from fcn==6.4.4) (2.1.2)\n",
            "Requirement already satisfied: pandas in /usr/local/lib/python3.6/dist-packages (from fcn==6.4.4) (0.22.0)\n",
            "Requirement already satisfied: PyYAML in /usr/local/lib/python3.6/dist-packages (from fcn==6.4.4) (3.13)\n",
            "Requirement already satisfied: scikit-learn in /usr/local/lib/python3.6/dist-packages (from fcn==6.4.4) (0.20.1)\n",
            "Requirement already satisfied: scikit-image in /usr/local/lib/python3.6/dist-packages (from fcn==6.4.4) (0.13.1)\n",
            "Requirement already satisfied: filelock in /usr/local/lib/python3.6/dist-packages (from chainer>=2.0.0->fcn==6.4.4) (3.0.10)\n",
            "Requirement already satisfied: protobuf>=3.0.0 in /usr/local/lib/python3.6/dist-packages (from chainer>=2.0.0->fcn==6.4.4) (3.6.1)\n",
            "Requirement already satisfied: six>=1.9.0 in /usr/local/lib/python3.6/dist-packages (from chainer>=2.0.0->fcn==6.4.4) (1.11.0)\n",
            "Requirement already satisfied: Pillow in /usr/local/lib/python3.6/dist-packages (from chainercv->fcn==6.4.4) (4.0.0)\n",
            "Requirement already satisfied: requests in /usr/local/lib/python3.6/dist-packages (from gdown->fcn==6.4.4) (2.18.4)\n",
            "Requirement already satisfied: pytz in /usr/local/lib/python3.6/dist-packages (from matplotlib->fcn==6.4.4) (2018.7)\n",
            "Requirement already satisfied: pyparsing!=2.0.4,!=2.1.2,!=2.1.6,>=2.0.1 in /usr/local/lib/python3.6/dist-packages (from matplotlib->fcn==6.4.4) (2.3.0)\n",
            "Requirement already satisfied: cycler>=0.10 in /usr/local/lib/python3.6/dist-packages (from matplotlib->fcn==6.4.4) (0.10.0)\n",
            "Requirement already satisfied: python-dateutil>=2.1 in /usr/local/lib/python3.6/dist-packages (from matplotlib->fcn==6.4.4) (2.5.3)\n",
            "Requirement already satisfied: networkx>=1.8 in /usr/local/lib/python3.6/dist-packages (from scikit-image->fcn==6.4.4) (2.2)\n",
            "Requirement already satisfied: PyWavelets>=0.4.0 in /usr/local/lib/python3.6/dist-packages (from scikit-image->fcn==6.4.4) (1.0.1)\n",
            "Requirement already satisfied: setuptools in /usr/local/lib/python3.6/dist-packages (from protobuf>=3.0.0->chainer>=2.0.0->fcn==6.4.4) (40.6.2)\n",
            "Requirement already satisfied: olefile in /usr/local/lib/python3.6/dist-packages (from Pillow->chainercv->fcn==6.4.4) (0.46)\n",
            "Requirement already satisfied: urllib3<1.23,>=1.21.1 in /usr/local/lib/python3.6/dist-packages (from requests->gdown->fcn==6.4.4) (1.22)\n",
            "Requirement already satisfied: idna<2.7,>=2.5 in /usr/local/lib/python3.6/dist-packages (from requests->gdown->fcn==6.4.4) (2.6)\n",
            "Requirement already satisfied: certifi>=2017.4.17 in /usr/local/lib/python3.6/dist-packages (from requests->gdown->fcn==6.4.4) (2018.11.29)\n",
            "Requirement already satisfied: chardet<3.1.0,>=3.0.2 in /usr/local/lib/python3.6/dist-packages (from requests->gdown->fcn==6.4.4) (3.0.4)\n",
            "Requirement already satisfied: decorator>=4.3.0 in /usr/local/lib/python3.6/dist-packages (from networkx>=1.8->scikit-image->fcn==6.4.4) (4.3.0)\n",
            "Building wheels for collected packages: fcn, chainercv\n",
            "  Running setup.py bdist_wheel for fcn ... \u001b[?25l-\b \b\\\b \bdone\n",
            "\u001b[?25h  Stored in directory: /root/.cache/pip/wheels/3e/70/80/a3127881a5d4288bd996131df5a60dfcf16199a235ee60afe9\n",
            "  Running setup.py bdist_wheel for chainercv ... \u001b[?25l-\b \b\\\b \b|\b \b/\b \b-\b \b\\\b \b|\b \b/\b \bdone\n",
            "\u001b[?25h  Stored in directory: /root/.cache/pip/wheels/95/24/5a/1611db416857b5e092962bc22a70722315881e03970c7fa966\n",
            "Successfully built fcn chainercv\n",
            "Installing collected packages: chainercv, fcn\n",
            "Successfully installed chainercv-0.11.0 fcn-6.4.4\n"
          ],
          "name": "stdout"
        }
      ]
    },
    {
      "metadata": {
        "id": "A0qx5TDQUXpG",
        "colab_type": "code",
        "colab": {}
      },
      "cell_type": "code",
      "source": [
        "# Some parameters and paths to data\n",
        "#dir_path = os.path.dirname(os.path.realpath(__file__))\n",
        "path_train = 'DRIVE/training/'\n",
        "path_test = 'DRIVE/test/'\n",
        "path_img = 'images'\n",
        "path_mask = 'mask'\n",
        "path_targets = '1st_manual'\n",
        "path_tif_targets = '1st_manual_tif'\n",
        "pre_dir = \"/content/drive/My Drive/DRIVE/\""
      ],
      "execution_count": 0,
      "outputs": []
    },
    {
      "metadata": {
        "id": "2WUH-b77UZoM",
        "colab_type": "code",
        "colab": {
          "base_uri": "https://localhost:8080/",
          "height": 71
        },
        "outputId": "71db303c-08ec-42c2-c950-a0cb486dc561"
      },
      "cell_type": "code",
      "source": [
        "# Read in the file paths of the images to use for the training.\n",
        "random_seed = 42\n",
        "sz = 64\n",
        "image_paths = []\n",
        "target_paths = []\n",
        "\n",
        "args = {}\n",
        "args[\"training_imgs\"] = pre_dir + \"training/images/\"\n",
        "args[\"targets\"] = pre_dir + \"training/1st_manual_tif/\"\n",
        "\n",
        "for (dirpath, dirnames, filenames) in os.walk(args[\"training_imgs\"]):\n",
        "    for file in filenames:\n",
        "        if '.tif' in file and not file.startswith('.'):\n",
        "              image_paths.append(os.path.join(dirpath, file))\n",
        "\n",
        "for (dirpath, dirnames, filenames) in os.walk(args[\"targets\"]):\n",
        "    for file in filenames:\n",
        "        if '.tiff' in file and not file.startswith('.'):\n",
        "              target_paths.append(os.path.join(dirpath, file))\n",
        "            \n",
        "                \n",
        "random.seed(random_seed)\n",
        "\n",
        "def show_images(imgs, grid_size=3):\n",
        "    f, axarr = plt.subplots(grid_size,grid_size, figsize=(15, 15))\n",
        "    for i in range(grid_size):\n",
        "        for j in range(grid_size):\n",
        "            axarr[i,j].imshow(imgs[i*grid_size+j])\n",
        "    plt.show()\n",
        "  \n",
        "\n",
        "input_data = []\n",
        "for image_path in image_paths:\n",
        "    image = cv2.imread(image_path)\n",
        "    image = resize(image, (560, 560)) #, anti_aliasing=True)\n",
        "    #image = cv2.cvtColor(image, cv2.COLOR_BGR2GRAY)\n",
        "    input_data.append(image)\n",
        "    \n",
        "\n",
        "target_data = []\n",
        "for target_path in target_paths:\n",
        "    target = cv2.imread(target_path)\n",
        "    target = resize(target, (560, 560)) #, anti_aliasing=True)\n",
        "    #target = cv2.cvtColor(target, cv2.COLOR_BGR2GRAY)\n",
        "    #print(target)\n",
        "    target_data.append(target)\n",
        "    #print(target_data)"
      ],
      "execution_count": 4,
      "outputs": [
        {
          "output_type": "stream",
          "text": [
            "/usr/local/lib/python3.6/dist-packages/skimage/transform/_warps.py:84: UserWarning: The default mode, 'constant', will be changed to 'reflect' in skimage 0.15.\n",
            "  warn(\"The default mode, 'constant', will be changed to 'reflect' in \"\n"
          ],
          "name": "stderr"
        }
      ]
    },
    {
      "metadata": {
        "id": "gdy-rIDSUlIV",
        "colab_type": "code",
        "colab": {}
      },
      "cell_type": "code",
      "source": [
        "def unet(height,width,n_ch):\n",
        "    inputs = Input((height,width,n_ch))\n",
        "\n",
        "    # First set of layers\n",
        "    conv1 = Conv2D(64, (3,3), padding='same', kernel_initializer='random_uniform', activation='relu', data_format='channels_last')(inputs)\n",
        "    conv1 = Conv2D(64, (3,3), padding='same', kernel_initializer='random_uniform', activation='relu', data_format='channels_last')(conv1)\n",
        "    pool1 = MaxPooling2D((2,2))(conv1)\n",
        "\n",
        "    # Second set of layers\n",
        "    conv2 = Conv2D(128, (3,3), padding='same', kernel_initializer='random_uniform', activation='relu', data_format='channels_last')(pool1)\n",
        "    conv2 = Conv2D(128, (3,3), padding='same', kernel_initializer='random_uniform', activation='relu', data_format='channels_last')(conv2)\n",
        "    pool2 = MaxPooling2D((2,2))(conv2)\n",
        "\n",
        "    # Third set of layers\n",
        "    conv3 = Conv2D(256, (3,3), padding='same', kernel_initializer='random_uniform', activation='relu', data_format='channels_last')(pool2)\n",
        "    conv3 = Conv2D(256, (3,3), padding='same', kernel_initializer='random_uniform', activation='relu', data_format='channels_last')(conv3)\n",
        "    pool3 = MaxPooling2D((2,2))(conv3)\n",
        "\n",
        "    # Fourth set of layers\n",
        "    conv4 = Conv2D(512, (3,3), padding='same', kernel_initializer='random_uniform', activation='relu', data_format='channels_last')(pool3)\n",
        "    conv4 = Conv2D(512, (3,3), padding='same', kernel_initializer='random_uniform', activation='relu', data_format='channels_last')(conv4)\n",
        "    pool4 = MaxPooling2D((2,2))(conv4)\n",
        "\n",
        "    # Fifth set of layers\n",
        "    conv5 = Conv2D(1024, (3,3), padding='same', kernel_initializer='random_uniform', activation='relu', data_format='channels_last')(pool4)\n",
        "    conv5 = Conv2D(1024, (3,3), padding='same', kernel_initializer='random_uniform', activation='relu', data_format='channels_last')(conv5)\n",
        "\n",
        "    # First up layers\n",
        "    upsamp1 = UpSampling2D((2,2))(conv5)\n",
        "    crop1 = Cropping2D(cropping=((0,0),(0,0)))(conv4)\n",
        "    concat1 = concatenate([upsamp1,crop1])\n",
        "\n",
        "    conv6 = Conv2D(512, (3,3), padding='same', kernel_initializer='random_uniform', activation='relu', data_format='channels_last')(concat1)\n",
        "    conv6 = Conv2D(512, (3,3), padding='same', kernel_initializer='random_uniform', activation='relu', data_format='channels_last')(conv6)\n",
        "\n",
        "    # Second up layers\n",
        "    upsamp2 = UpSampling2D((2,2))(conv6)\n",
        "    crop2 = Cropping2D(cropping=((0,0),(0,0)))(conv3)\n",
        "    concat2 = concatenate([upsamp2,crop2])\n",
        "\n",
        "    conv7 = Conv2D(256, (3,3), padding='same', kernel_initializer='random_uniform', activation='relu', data_format='channels_last')(concat2)\n",
        "    conv7 = Conv2D(256, (3,3), padding='same', kernel_initializer='random_uniform', activation='relu', data_format='channels_last')(conv7)\n",
        "\n",
        "    # Third up layers\n",
        "    upsamp3 = UpSampling2D((2,2))(conv7)\n",
        "    crop3 = Cropping2D(cropping=((0,0),(0,0)))(conv2)\n",
        "    concat3 = concatenate([upsamp3,crop3])\n",
        "\n",
        "    conv8 = Conv2D(128, (3,3), padding='same', kernel_initializer='random_uniform', activation='relu', data_format='channels_last')(concat3)\n",
        "    conv8 = Conv2D(128, (3,3), padding='same', kernel_initializer='random_uniform', activation='relu', data_format='channels_last')(conv8)\n",
        "\n",
        "    # Fourth up layers\n",
        "    upsamp4 = UpSampling2D((2,2))(conv8)\n",
        "    crop4 = Cropping2D(cropping=((0,0),(0,0)))(conv1)\n",
        "    concat4 = concatenate([upsamp4,crop4])\n",
        "\n",
        "    conv9 = Conv2D(64, (3,3), padding='same', kernel_initializer='random_uniform', activation='relu', data_format='channels_last')(concat4)\n",
        "    conv9 = Conv2D(64, (3,3), padding='same', kernel_initializer='random_uniform', activation='relu', data_format='channels_last')(conv9)\n",
        "\n",
        "    # Output layer\n",
        "    outconv = Conv2D(3, (1,1), kernel_initializer='random_uniform', padding='same', activation='sigmoid', data_format='channels_last')(conv9)\n",
        "\n",
        "    model = Model(inputs=inputs, outputs=outconv)\n",
        "\n",
        "    #sgd = SGD(lr=0.01, decay=1e-6, momentum=0.3, nesterov=False)\n",
        "    model.compile(optimizer='sgd', loss='binary_crossentropy', metrics=['accuracy'])\n",
        "\n",
        "    return model"
      ],
      "execution_count": 0,
      "outputs": []
    },
    {
      "metadata": {
        "id": "OBGr-0l4UeZM",
        "colab_type": "code",
        "colab": {
          "base_uri": "https://localhost:8080/",
          "height": 1649
        },
        "outputId": "815836d8-84c7-42c7-ad1c-a0500e23b6f8"
      },
      "cell_type": "code",
      "source": [
        "h,w,ch = target_data[0].shape\n",
        "\n",
        "#print(target_data[0].shape)\n",
        "#print(input_data[0].shape)\n",
        "#show_images(target_data)\n",
        "\n",
        "EPOCHS=5\n",
        "\n",
        "model = unet(h,w,ch)\n",
        "model.summary()\n",
        "\n",
        "\n",
        "input_data = np.array(input_data)\n",
        "target_data = np.array(target_data)\n",
        "print(target_data.shape)\n",
        "print(input_data.shape)\n",
        "#input_data = np.reshape(input_data, (20,584,565,3))\n",
        "\n",
        "model.fit(input_data, target_data, epochs=EPOCHS, batch_size=1)"
      ],
      "execution_count": 6,
      "outputs": [
        {
          "output_type": "stream",
          "text": [
            "__________________________________________________________________________________________________\n",
            "Layer (type)                    Output Shape         Param #     Connected to                     \n",
            "==================================================================================================\n",
            "input_1 (InputLayer)            (None, 560, 560, 3)  0                                            \n",
            "__________________________________________________________________________________________________\n",
            "conv2d_1 (Conv2D)               (None, 560, 560, 64) 1792        input_1[0][0]                    \n",
            "__________________________________________________________________________________________________\n",
            "conv2d_2 (Conv2D)               (None, 560, 560, 64) 36928       conv2d_1[0][0]                   \n",
            "__________________________________________________________________________________________________\n",
            "max_pooling2d_1 (MaxPooling2D)  (None, 280, 280, 64) 0           conv2d_2[0][0]                   \n",
            "__________________________________________________________________________________________________\n",
            "conv2d_3 (Conv2D)               (None, 280, 280, 128 73856       max_pooling2d_1[0][0]            \n",
            "__________________________________________________________________________________________________\n",
            "conv2d_4 (Conv2D)               (None, 280, 280, 128 147584      conv2d_3[0][0]                   \n",
            "__________________________________________________________________________________________________\n",
            "max_pooling2d_2 (MaxPooling2D)  (None, 140, 140, 128 0           conv2d_4[0][0]                   \n",
            "__________________________________________________________________________________________________\n",
            "conv2d_5 (Conv2D)               (None, 140, 140, 256 295168      max_pooling2d_2[0][0]            \n",
            "__________________________________________________________________________________________________\n",
            "conv2d_6 (Conv2D)               (None, 140, 140, 256 590080      conv2d_5[0][0]                   \n",
            "__________________________________________________________________________________________________\n",
            "max_pooling2d_3 (MaxPooling2D)  (None, 70, 70, 256)  0           conv2d_6[0][0]                   \n",
            "__________________________________________________________________________________________________\n",
            "conv2d_7 (Conv2D)               (None, 70, 70, 512)  1180160     max_pooling2d_3[0][0]            \n",
            "__________________________________________________________________________________________________\n",
            "conv2d_8 (Conv2D)               (None, 70, 70, 512)  2359808     conv2d_7[0][0]                   \n",
            "__________________________________________________________________________________________________\n",
            "max_pooling2d_4 (MaxPooling2D)  (None, 35, 35, 512)  0           conv2d_8[0][0]                   \n",
            "__________________________________________________________________________________________________\n",
            "conv2d_9 (Conv2D)               (None, 35, 35, 1024) 4719616     max_pooling2d_4[0][0]            \n",
            "__________________________________________________________________________________________________\n",
            "conv2d_10 (Conv2D)              (None, 35, 35, 1024) 9438208     conv2d_9[0][0]                   \n",
            "__________________________________________________________________________________________________\n",
            "up_sampling2d_1 (UpSampling2D)  (None, 70, 70, 1024) 0           conv2d_10[0][0]                  \n",
            "__________________________________________________________________________________________________\n",
            "cropping2d_1 (Cropping2D)       (None, 70, 70, 512)  0           conv2d_8[0][0]                   \n",
            "__________________________________________________________________________________________________\n",
            "concatenate_1 (Concatenate)     (None, 70, 70, 1536) 0           up_sampling2d_1[0][0]            \n",
            "                                                                 cropping2d_1[0][0]               \n",
            "__________________________________________________________________________________________________\n",
            "conv2d_11 (Conv2D)              (None, 70, 70, 512)  7078400     concatenate_1[0][0]              \n",
            "__________________________________________________________________________________________________\n",
            "conv2d_12 (Conv2D)              (None, 70, 70, 512)  2359808     conv2d_11[0][0]                  \n",
            "__________________________________________________________________________________________________\n",
            "up_sampling2d_2 (UpSampling2D)  (None, 140, 140, 512 0           conv2d_12[0][0]                  \n",
            "__________________________________________________________________________________________________\n",
            "cropping2d_2 (Cropping2D)       (None, 140, 140, 256 0           conv2d_6[0][0]                   \n",
            "__________________________________________________________________________________________________\n",
            "concatenate_2 (Concatenate)     (None, 140, 140, 768 0           up_sampling2d_2[0][0]            \n",
            "                                                                 cropping2d_2[0][0]               \n",
            "__________________________________________________________________________________________________\n",
            "conv2d_13 (Conv2D)              (None, 140, 140, 256 1769728     concatenate_2[0][0]              \n",
            "__________________________________________________________________________________________________\n",
            "conv2d_14 (Conv2D)              (None, 140, 140, 256 590080      conv2d_13[0][0]                  \n",
            "__________________________________________________________________________________________________\n",
            "up_sampling2d_3 (UpSampling2D)  (None, 280, 280, 256 0           conv2d_14[0][0]                  \n",
            "__________________________________________________________________________________________________\n",
            "cropping2d_3 (Cropping2D)       (None, 280, 280, 128 0           conv2d_4[0][0]                   \n",
            "__________________________________________________________________________________________________\n",
            "concatenate_3 (Concatenate)     (None, 280, 280, 384 0           up_sampling2d_3[0][0]            \n",
            "                                                                 cropping2d_3[0][0]               \n",
            "__________________________________________________________________________________________________\n",
            "conv2d_15 (Conv2D)              (None, 280, 280, 128 442496      concatenate_3[0][0]              \n",
            "__________________________________________________________________________________________________\n",
            "conv2d_16 (Conv2D)              (None, 280, 280, 128 147584      conv2d_15[0][0]                  \n",
            "__________________________________________________________________________________________________\n",
            "up_sampling2d_4 (UpSampling2D)  (None, 560, 560, 128 0           conv2d_16[0][0]                  \n",
            "__________________________________________________________________________________________________\n",
            "cropping2d_4 (Cropping2D)       (None, 560, 560, 64) 0           conv2d_2[0][0]                   \n",
            "__________________________________________________________________________________________________\n",
            "concatenate_4 (Concatenate)     (None, 560, 560, 192 0           up_sampling2d_4[0][0]            \n",
            "                                                                 cropping2d_4[0][0]               \n",
            "__________________________________________________________________________________________________\n",
            "conv2d_17 (Conv2D)              (None, 560, 560, 64) 110656      concatenate_4[0][0]              \n",
            "__________________________________________________________________________________________________\n",
            "conv2d_18 (Conv2D)              (None, 560, 560, 64) 36928       conv2d_17[0][0]                  \n",
            "__________________________________________________________________________________________________\n",
            "conv2d_19 (Conv2D)              (None, 560, 560, 3)  195         conv2d_18[0][0]                  \n",
            "==================================================================================================\n",
            "Total params: 31,379,075\n",
            "Trainable params: 31,379,075\n",
            "Non-trainable params: 0\n",
            "__________________________________________________________________________________________________\n",
            "(20, 560, 560, 3)\n",
            "(20, 560, 560, 3)\n",
            "Epoch 1/5\n",
            "20/20 [==============================] - 32s 2s/step - loss: 0.6866 - acc: 0.7800\n",
            "Epoch 2/5\n",
            "20/20 [==============================] - 16s 790ms/step - loss: 0.6659 - acc: 0.8791\n",
            "Epoch 3/5\n",
            "20/20 [==============================] - 16s 790ms/step - loss: 0.4727 - acc: 0.8791\n",
            "Epoch 4/5\n",
            "20/20 [==============================] - 16s 791ms/step - loss: 0.3431 - acc: 0.8791\n",
            "Epoch 5/5\n",
            "20/20 [==============================] - 16s 791ms/step - loss: 0.3257 - acc: 0.8791\n"
          ],
          "name": "stdout"
        },
        {
          "output_type": "execute_result",
          "data": {
            "text/plain": [
              "<keras.callbacks.History at 0x7fd8206b3f28>"
            ]
          },
          "metadata": {
            "tags": []
          },
          "execution_count": 6
        }
      ]
    }
  ]
}